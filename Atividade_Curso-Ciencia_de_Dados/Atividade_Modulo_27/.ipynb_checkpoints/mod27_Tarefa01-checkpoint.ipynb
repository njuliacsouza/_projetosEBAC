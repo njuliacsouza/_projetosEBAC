{
 "cells": [
  {
   "cell_type": "markdown",
   "metadata": {},
   "source": [
    "![Cabec%CC%A7alho_notebook.png](cabecalho_notebook.png)"
   ]
  },
  {
   "cell_type": "markdown",
   "metadata": {},
   "source": [
    "# PCA - Tarefa 01: *HAR* com PCA\n",
    "\n",
    "Vamos trabalhar com a base da demonstração feita em aula, mas vamos explorar um pouco melhor como é o desempenho da árvore variando o número de componentes principais."
   ]
  },
  {
   "cell_type": "code",
   "execution_count": 21,
   "metadata": {},
   "outputs": [
    {
     "name": "stderr",
     "output_type": "stream",
     "text": [
      "C:\\Users\\mjuli\\AppData\\Local\\Temp\\ipykernel_10056\\2013358503.py:21: FutureWarning: The squeeze argument has been deprecated and will be removed in a future version. Append .squeeze(\"columns\") to the call to squeeze.\n",
      "\n",
      "\n",
      "  features = pd.read_csv(filename_features, header=None, names=['nome_var'], squeeze=True, sep=\"#\")\n",
      "C:\\Users\\mjuli\\AppData\\Local\\Temp\\ipykernel_10056\\2013358503.py:24: FutureWarning: The squeeze argument has been deprecated and will be removed in a future version. Append .squeeze(\"columns\") to the call to squeeze.\n",
      "\n",
      "\n",
      "  subject_train = pd.read_csv(filename_subtrain, header=None, names=['subject_id'], squeeze=True)\n",
      "C:\\Users\\mjuli\\AppData\\Local\\Temp\\ipykernel_10056\\2013358503.py:28: FutureWarning: The squeeze argument has been deprecated and will be removed in a future version. Append .squeeze(\"columns\") to the call to squeeze.\n",
      "\n",
      "\n",
      "  subject_test = pd.read_csv(filename_subtest, header=None, names=['subject_id'], squeeze=True)\n"
     ]
    }
   ],
   "source": [
    "import pandas as pd\n",
    "\n",
    "from sklearn.tree import DecisionTreeClassifier\n",
    "\n",
    "from sklearn.decomposition import PCA\n",
    "from sklearn.metrics import accuracy_score\n",
    "from sklearn.model_selection import cross_val_score\n",
    "from sklearn.model_selection import GridSearchCV\n",
    "\n",
    "filename_features = \"../../../_EBAC/Material_de_Apoio - Data Science/Material_de_Apoio_Modulo_29/UCI HAR Dataset/features.txt\"\n",
    "filename_labels = \"../../../_EBAC/Material_de_Apoio - Data Science/Material_de_Apoio_Modulo_29/UCI HAR Dataset/activity_labels.txt\"\n",
    "\n",
    "filename_subtrain = \"../../../_EBAC/Material_de_Apoio - Data Science/Material_de_Apoio_Modulo_29/UCI HAR Dataset/train/subject_train.txt\"\n",
    "filename_xtrain = \"../../../_EBAC/Material_de_Apoio - Data Science/Material_de_Apoio_Modulo_29/UCI HAR Dataset/train/X_train.txt\"\n",
    "filename_ytrain = \"../../../_EBAC/Material_de_Apoio - Data Science/Material_de_Apoio_Modulo_29/UCI HAR Dataset/train/y_train.txt\"\n",
    "\n",
    "filename_subtest = \"../../../_EBAC/Material_de_Apoio - Data Science/Material_de_Apoio_Modulo_29/UCI HAR Dataset/test/subject_test.txt\"\n",
    "ffilename_xtest = \"../../../_EBAC/Material_de_Apoio - Data Science/Material_de_Apoio_Modulo_29/UCI HAR Dataset/test/X_test.txt\"\n",
    "filename_ytest = \"../../../_EBAC/Material_de_Apoio - Data Science/Material_de_Apoio_Modulo_29/UCI HAR Dataset/test/y_test.txt\"\n",
    "\n",
    "features = pd.read_csv(filename_features, header=None, names=['nome_var'], squeeze=True, sep=\"#\")\n",
    "labels = pd.read_csv(filename_labels, delim_whitespace=True, header=None, names=['cod_label', 'label'])\n",
    "\n",
    "subject_train = pd.read_csv(filename_subtrain, header=None, names=['subject_id'], squeeze=True)\n",
    "X_train = pd.read_csv(filename_xtrain, delim_whitespace=True, header=None, names=features.tolist())\n",
    "y_train = pd.read_csv(filename_ytrain, header=None, names=['cod_label'])\n",
    "\n",
    "subject_test = pd.read_csv(filename_subtest, header=None, names=['subject_id'], squeeze=True)\n",
    "X_test = pd.read_csv(ffilename_xtest, delim_whitespace=True, header=None, names=features.tolist())\n",
    "y_test = pd.read_csv(filename_ytest, header=None, names=['cod_label'])"
   ]
  },
  {
   "cell_type": "markdown",
   "metadata": {},
   "source": [
    "## Árvore de decisão\n",
    "\n",
    "Rode uma árvore de decisão com todas as variáveis, utilizando o ```ccp_alpha=0.001```. Avalie a acurácia nas bases de treinamento e teste. Avalie o tempo de processamento."
   ]
  },
  {
   "cell_type": "code",
   "execution_count": 22,
   "metadata": {},
   "outputs": [
    {
     "name": "stdout",
     "output_type": "stream",
     "text": [
      "Acurácia para treinamento:  0.9757889009793254\n",
      "Acurácia para teste:  0.8798778418730913\n",
      "CPU times: total: 3.75 s\n",
      "Wall time: 3.97 s\n"
     ]
    }
   ],
   "source": [
    "%%time\n",
    "\n",
    "clf = DecisionTreeClassifier(random_state=42, ccp_alpha=0.001).fit(X_train, y_train)\n",
    "print('Acurácia para treinamento: ', clf.score(X_train, y_train))\n",
    "print('Acurácia para teste: ',clf.score(X_test, y_test))"
   ]
  },
  {
   "cell_type": "markdown",
   "metadata": {},
   "source": [
    "O processamento foi super rápido."
   ]
  },
  {
   "cell_type": "markdown",
   "metadata": {},
   "source": [
    "## Árvore com PCA\n",
    "\n",
    "Faça uma análise de componemtes principais das variáveis originais. Utilize apenas uma componente. Faça uma árvore de decisão com esta componente como variável explicativa.\n",
    "\n",
    "- Avalie a acurácia nas bases de treinamento e teste\n",
    "- Avalie o tempo de processamento"
   ]
  },
  {
   "cell_type": "markdown",
   "metadata": {},
   "source": [
    "Para apenas uma componente:"
   ]
  },
  {
   "cell_type": "code",
   "execution_count": 35,
   "metadata": {},
   "outputs": [
    {
     "name": "stdout",
     "output_type": "stream",
     "text": [
      "CPU times: total: 0 ns\n",
      "Wall time: 0 ns\n",
      "Acurácia para treinamento:  0.499727965179543\n",
      "Acurácia para teste:  0.45707499151679676\n"
     ]
    }
   ],
   "source": [
    "%time\n",
    "\n",
    "prcomp_1 = PCA(n_components=1).fit(X_train)\n",
    "\n",
    "pc_train_1 = prcomp_1.transform(X_train)\n",
    "pc_test_1  = prcomp_1.transform(X_test)\n",
    "\n",
    "clf_1 = DecisionTreeClassifier(random_state=42, ccp_alpha=0.001).fit(pc_train_1, y_train)\n",
    "print('Acurácia para treinamento: ', clf_1.score(pc_train_1, y_train))\n",
    "print('Acurácia para teste: ',clf_1.score(pc_test_1, y_test))"
   ]
  },
  {
   "cell_type": "markdown",
   "metadata": {},
   "source": [
    "## Testando o número de componentes\n",
    "\n",
    "Com base no código acima, teste a árvore de classificação com pelo menos as seguintes possibilidades de quantidades de componentes: ```[1, 2, 5, 10, 50]```. Avalie para cada uma delas:\n",
    "\n",
    "- Acurácia nas bases de treino e teste\n",
    "- Tempo de processamento\n"
   ]
  },
  {
   "cell_type": "code",
   "execution_count": 43,
   "metadata": {},
   "outputs": [
    {
     "name": "stdout",
     "output_type": "stream",
     "text": [
      "Acurácia para treinamento com 1 componentes:  0.499727965179543\n",
      "Acurácia para teste com 1 componentes:  0.45707499151679676\n",
      "\n",
      "Acurácia para treinamento com 2 componentes:  0.6127584330794341\n",
      "Acurácia para teste com 2 componentes:  0.5846623685103495\n",
      "\n",
      "Acurácia para treinamento com 5 componentes:  0.8460282916213275\n",
      "Acurácia para teste com 5 componentes:  0.7882592466915507\n",
      "\n",
      "Acurácia para treinamento com 10 componentes:  0.8926822633297062\n",
      "Acurácia para teste com 10 componentes:  0.8238887003732609\n",
      "\n",
      "Acurácia para treinamento com 50 componentes:  0.9197497279651795\n",
      "Acurácia para teste com 50 componentes:  0.8238887003732609\n",
      "\n",
      "CPU times: total: 4.3 s\n",
      "Wall time: 1.84 s\n"
     ]
    }
   ],
   "source": [
    "%%time\n",
    "\n",
    "qtd_comp = [1, 2, 5, 10, 50]\n",
    "ac_train = []\n",
    "ac_test = []\n",
    "\n",
    "for i in qtd_comp:\n",
    "    prcomp = PCA(n_components=i).fit(X_train)\n",
    "\n",
    "    pc_train = prcomp.transform(X_train)\n",
    "    pc_test  = prcomp.transform(X_test)\n",
    "\n",
    "    clf = DecisionTreeClassifier(random_state=42, ccp_alpha=0.001).fit(pc_train, y_train)\n",
    "    print(f'Acurácia para treinamento com {i} componentes: ', clf.score(pc_train, y_train))\n",
    "    ac_train.append(clf.score(pc_train, y_train))\n",
    "    print(f'Acurácia para teste com {i} componentes: ',clf.score(pc_test, y_test))\n",
    "    ac_test.append(clf.score(pc_test, y_test))\n",
    "    print()"
   ]
  },
  {
   "cell_type": "markdown",
   "metadata": {},
   "source": [
    "## Conclua\n",
    "\n",
    "- O que aconteceu com a acurácia?\n",
    "- O que aconteceu com o tempo de processamento?"
   ]
  },
  {
   "cell_type": "code",
   "execution_count": 61,
   "metadata": {},
   "outputs": [
    {
     "ename": "TypeError",
     "evalue": "scatter() got multiple values for argument 'x'",
     "output_type": "error",
     "traceback": [
      "\u001b[1;31m---------------------------------------------------------------------------\u001b[0m",
      "\u001b[1;31mTypeError\u001b[0m                                 Traceback (most recent call last)",
      "Cell \u001b[1;32mIn [61], line 4\u001b[0m\n\u001b[0;32m      1\u001b[0m \u001b[38;5;28;01mimport\u001b[39;00m \u001b[38;5;21;01mmatplotlib\u001b[39;00m\u001b[38;5;21;01m.\u001b[39;00m\u001b[38;5;21;01mpyplot\u001b[39;00m \u001b[38;5;28;01mas\u001b[39;00m \u001b[38;5;21;01mplt\u001b[39;00m\n\u001b[0;32m      3\u001b[0m tabela \u001b[38;5;241m=\u001b[39m pd\u001b[38;5;241m.\u001b[39mDataFrame({\u001b[38;5;124m'\u001b[39m\u001b[38;5;124mqtd_de_componentes\u001b[39m\u001b[38;5;124m'\u001b[39m: qtd_comp, \u001b[38;5;124m'\u001b[39m\u001b[38;5;124macuracia_teste\u001b[39m\u001b[38;5;124m'\u001b[39m: ac_test, \u001b[38;5;124m'\u001b[39m\u001b[38;5;124macuracia_treino\u001b[39m\u001b[38;5;124m'\u001b[39m: ac_train})\n\u001b[1;32m----> 4\u001b[0m \u001b[43mplt\u001b[49m\u001b[38;5;241;43m.\u001b[39;49m\u001b[43mscatter\u001b[49m\u001b[43m(\u001b[49m\u001b[43mtabela\u001b[49m\u001b[43m,\u001b[49m\u001b[43m \u001b[49m\u001b[43mx\u001b[49m\u001b[38;5;241;43m=\u001b[39;49m\u001b[38;5;124;43m'\u001b[39;49m\u001b[38;5;124;43mqtd_de_componentes\u001b[39;49m\u001b[38;5;124;43m'\u001b[39;49m\u001b[43m,\u001b[49m\u001b[43m \u001b[49m\u001b[43my\u001b[49m\u001b[38;5;241;43m=\u001b[39;49m\u001b[38;5;124;43m'\u001b[39;49m\u001b[38;5;124;43macuracia_teste\u001b[39;49m\u001b[38;5;124;43m'\u001b[39;49m\u001b[43m)\u001b[49m\n",
      "\u001b[1;31mTypeError\u001b[0m: scatter() got multiple values for argument 'x'"
     ]
    }
   ],
   "source": [
    "import matplotlib.pyplot as plt\n",
    "\n",
    "tabela = pd.DataFrame({'qtd_de_componentes': qtd_comp, 'acuracia_teste': ac_test, 'acuracia_treino': ac_train})\n",
    "plt.scatter(tabela, x='qtd_de_componentes', y='acuracia_teste')"
   ]
  }
 ],
 "metadata": {
  "kernelspec": {
   "display_name": "Python 3",
   "language": "python",
   "name": "python3"
  },
  "language_info": {
   "codemirror_mode": {
    "name": "ipython",
    "version": 3
   },
   "file_extension": ".py",
   "mimetype": "text/x-python",
   "name": "python",
   "nbconvert_exporter": "python",
   "pygments_lexer": "ipython3",
   "version": "3.8.5"
  },
  "toc": {
   "base_numbering": 1,
   "nav_menu": {},
   "number_sections": true,
   "sideBar": true,
   "skip_h1_title": true,
   "title_cell": "Índice",
   "title_sidebar": "Conteúdo",
   "toc_cell": false,
   "toc_position": {},
   "toc_section_display": true,
   "toc_window_display": false
  },
  "varInspector": {
   "cols": {
    "lenName": 16,
    "lenType": 16,
    "lenVar": 40
   },
   "kernels_config": {
    "python": {
     "delete_cmd_postfix": "",
     "delete_cmd_prefix": "del ",
     "library": "var_list.py",
     "varRefreshCmd": "print(var_dic_list())"
    },
    "r": {
     "delete_cmd_postfix": ") ",
     "delete_cmd_prefix": "rm(",
     "library": "var_list.r",
     "varRefreshCmd": "cat(var_dic_list()) "
    }
   },
   "types_to_exclude": [
    "module",
    "function",
    "builtin_function_or_method",
    "instance",
    "_Feature"
   ],
   "window_display": false
  }
 },
 "nbformat": 4,
 "nbformat_minor": 4
}
