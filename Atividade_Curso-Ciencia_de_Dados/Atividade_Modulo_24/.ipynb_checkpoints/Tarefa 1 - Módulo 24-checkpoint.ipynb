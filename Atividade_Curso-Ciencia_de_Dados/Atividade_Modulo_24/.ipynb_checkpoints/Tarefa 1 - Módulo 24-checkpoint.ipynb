{
 "cells": [
  {
   "cell_type": "markdown",
   "id": "48dc1991",
   "metadata": {},
   "source": [
    "Citando cinco diferenças principais:\n",
    "Enquanto o Random Forest é uma floresta de árvores, o AdaBoost é uma floresta de Stumps. Isto quer dizer que no RF temos árvores completas em que podemos tratar delas assim como qualquer árvore de decisão, no AdaBoost o Stump é uma árvore que apresenta 1 de profundidade e 2 folhas, uma ideia de \"tocos\" de árvores.\n",
    "O Random Forest funciona a partir de árvores independentes, de forma que conseguiríamos construir cada uma delas sozinhas e depois realizer uma combinação para obter o resultado da \"floresta\", porém, no Boosting do AdaBoost a ideia é que a árvore anterior influencia a seguinte.\n",
    "No Random Forest a resposta de cada árvore tem o mesmo peso para se obter o resultado final enquanto que no AdaBoost as respostas tem pesos diferentes, de forma que os pesos vão sendo alterados conforme o resultado da árvore apresenta acertos ou erros.\n",
    "Enquanto o RF usa o Bootstraping que faz com que alguns dados sejam amostrados várias vezes e outros não, o AdaBoost foca nos dados que estão sendo \t\t\t\t  \t\t\t\t         classificados incorretamente, o fato de que poucas amostras de dados que são classificadas incorretamente recebem pesos mais altos resulta nesses conjuntos de dados que serão amostrados repetidamente na nova amostra de dados.\n",
    "Como o RF utiliza muitas váriáveis, tem a tendência a ter modelos com maior acurácia do que o AdaBoost, um motivo pelo qual este é comumente utilizado em combinação com outros modelos.\n",
    "O notebook:\n",
    "Alguns hiperparâmetros:\n",
    "n_estimators: controla a quantidade de \"weak learners\"\n",
    "learning_rate: controla a contribuição dos \"weak learners\" para a combinação do resultado final\n",
    "estimator: pode ser usado para especificar \"weak learners\" diferentes\n",
    "max_depth: profundidade\n",
    "min_samples_split: número mínimo de samples para se considerar um \"split\""
   ]
  },
  {
   "cell_type": "markdown",
   "id": "97f2c428",
   "metadata": {},
   "source": [
    "# Módulo 24 - AdaBoost (Boosting)\n",
    "## Tarefa 1"
   ]
  },
  {
   "cell_type": "markdown",
   "id": "b4dc648c",
   "metadata": {},
   "source": [
    "### Exemplo 1"
   ]
  },
  {
   "cell_type": "markdown",
   "id": "d3560249",
   "metadata": {},
   "source": [
    "#### Import"
   ]
  },
  {
   "cell_type": "code",
   "execution_count": 1,
   "id": "fcbb5873",
   "metadata": {},
   "outputs": [],
   "source": [
    "from sklearn.model_selection import cross_val_score\n",
    "from sklearn.datasets import load_iris\n",
    "from sklearn.ensemble import AdaBoostClassifier"
   ]
  },
  {
   "cell_type": "markdown",
   "id": "ded4434a",
   "metadata": {},
   "source": [
    "#### Dados"
   ]
  },
  {
   "cell_type": "markdown",
   "id": "4af6fdbd",
   "metadata": {},
   "source": [
    "Utilizando os dados \"iris\"."
   ]
  },
  {
   "cell_type": "code",
   "execution_count": 2,
   "id": "3e64016a",
   "metadata": {},
   "outputs": [
    {
     "data": {
      "text/plain": [
       "((150, 4), (150,))"
      ]
     },
     "execution_count": 2,
     "metadata": {},
     "output_type": "execute_result"
    }
   ],
   "source": [
    "X, y = load_iris(return_X_y=True)\n",
    "X.shape, y.shape"
   ]
  },
  {
   "cell_type": "markdown",
   "id": "5f4c865f",
   "metadata": {},
   "source": [
    "#### Modelo"
   ]
  },
  {
   "cell_type": "code",
   "execution_count": 3,
   "id": "6f443f48",
   "metadata": {},
   "outputs": [
    {
     "data": {
      "text/plain": [
       "AdaBoostClassifier(n_estimators=100)"
      ]
     },
     "execution_count": 3,
     "metadata": {},
     "output_type": "execute_result"
    }
   ],
   "source": [
    "clf = AdaBoostClassifier(n_estimators=100)\n",
    "clf"
   ]
  },
  {
   "cell_type": "markdown",
   "id": "288a527a",
   "metadata": {},
   "source": [
    "#### Score do modelo"
   ]
  },
  {
   "cell_type": "code",
   "execution_count": 4,
   "id": "358443b2",
   "metadata": {},
   "outputs": [
    {
     "data": {
      "text/plain": [
       "0.9466666666666665"
      ]
     },
     "execution_count": 4,
     "metadata": {},
     "output_type": "execute_result"
    }
   ],
   "source": [
    "scores = cross_val_score(clf, X, y, cv=5)\n",
    "scores.mean()"
   ]
  },
  {
   "cell_type": "markdown",
   "id": "5c6c8d56",
   "metadata": {},
   "source": [
    "### Exemplo 2"
   ]
  },
  {
   "cell_type": "code",
   "execution_count": null,
   "id": "3ddeb0b0",
   "metadata": {},
   "outputs": [],
   "source": [
    "pip install --upgrade scikit-learn"
   ]
  },
  {
   "cell_type": "code",
   "execution_count": 13,
   "id": "04d16bdd",
   "metadata": {},
   "outputs": [
    {
     "ename": "ImportError",
     "evalue": "cannot import name 'DecisionBoundaryDisplay' from 'sklearn.inspection' (C:\\Users\\mjuli\\anaconda3\\lib\\site-packages\\sklearn\\inspection\\__init__.py)",
     "output_type": "error",
     "traceback": [
      "\u001b[1;31m---------------------------------------------------------------------------\u001b[0m",
      "\u001b[1;31mImportError\u001b[0m                               Traceback (most recent call last)",
      "Cell \u001b[1;32mIn [13], line 6\u001b[0m\n\u001b[0;32m      4\u001b[0m \u001b[38;5;28;01mfrom\u001b[39;00m \u001b[38;5;21;01msklearn\u001b[39;00m\u001b[38;5;21;01m.\u001b[39;00m\u001b[38;5;21;01mtree\u001b[39;00m \u001b[38;5;28;01mimport\u001b[39;00m DecisionTreeClassifier\n\u001b[0;32m      5\u001b[0m \u001b[38;5;28;01mfrom\u001b[39;00m \u001b[38;5;21;01msklearn\u001b[39;00m\u001b[38;5;21;01m.\u001b[39;00m\u001b[38;5;21;01mdatasets\u001b[39;00m \u001b[38;5;28;01mimport\u001b[39;00m make_gaussian_quantiles\n\u001b[1;32m----> 6\u001b[0m \u001b[38;5;28;01mfrom\u001b[39;00m \u001b[38;5;21;01msklearn\u001b[39;00m\u001b[38;5;21;01m.\u001b[39;00m\u001b[38;5;21;01minspection\u001b[39;00m \u001b[38;5;28;01mimport\u001b[39;00m DecisionBoundaryDisplay\n",
      "\u001b[1;31mImportError\u001b[0m: cannot import name 'DecisionBoundaryDisplay' from 'sklearn.inspection' (C:\\Users\\mjuli\\anaconda3\\lib\\site-packages\\sklearn\\inspection\\__init__.py)"
     ]
    }
   ],
   "source": [
    "import numpy as np\n",
    "import matplotlib.pyplot as plt\n",
    "\n",
    "from sklearn.tree import DecisionTreeClassifier\n",
    "from sklearn.datasets import make_gaussian_quantiles\n",
    "from sklearn.inspection import DecisionBoundaryDisplay"
   ]
  },
  {
   "cell_type": "markdown",
   "id": "9ccd15b4",
   "metadata": {},
   "source": [
    "#### Dados"
   ]
  },
  {
   "cell_type": "code",
   "execution_count": 7,
   "id": "72cf985b",
   "metadata": {},
   "outputs": [
    {
     "data": {
      "text/plain": [
       "((500, 2), (500,))"
      ]
     },
     "execution_count": 7,
     "metadata": {},
     "output_type": "execute_result"
    }
   ],
   "source": [
    "X1, y1 = make_gaussian_quantiles(\n",
    "    cov=2.0, n_samples=200, n_features=2, n_classes=2, random_state=1\n",
    ")\n",
    "X2, y2 = make_gaussian_quantiles(\n",
    "    mean=(3, 3), cov=1.5, n_samples=300, n_features=2, n_classes=2, random_state=1\n",
    ")\n",
    "X = np.concatenate((X1, X2))\n",
    "y = np.concatenate((y1, -y2 + 1))\n",
    "\n",
    "X.shape, y.shape"
   ]
  },
  {
   "cell_type": "code",
   "execution_count": null,
   "id": "f46b7a5a",
   "metadata": {},
   "outputs": [],
   "source": [
    "bdt = AdaBoostClassifier(\n",
    "    DecisionTreeClassifier(max_depth=1), algorithm=\"SAMME\", n_estimators=200\n",
    ")\n",
    "\n",
    "bdt.fit(X, y)\n",
    "\n",
    "plot_colors = \"br\"\n",
    "plot_step = 0.02\n",
    "class_names = \"AB\"\n",
    "\n",
    "plt.figure(figsize=(10, 5))\n",
    "\n",
    "ax = plt.subplot(121)\n",
    "disp = DecisionBoundaryDisplay.from_estimator(\n",
    "    bdt,\n",
    "    X,\n",
    "    cmap=plt.cm.Paired,\n",
    "    response_method=\"predict\",\n",
    "    ax=ax,\n",
    "    xlabel=\"x\",\n",
    "    ylabel=\"y\",\n",
    ")\n",
    "x_min, x_max = disp.xx0.min(), disp.xx0.max()\n",
    "y_min, y_max = disp.xx1.min(), disp.xx1.max()\n",
    "plt.axis(\"tight\")\n",
    "\n",
    "for i, n, c in zip(range(2), class_names, plot_colors):\n",
    "    idx = np.where(y == i)\n",
    "    plt.scatter(\n",
    "        X[idx, 0],\n",
    "        X[idx, 1],\n",
    "        c=c,\n",
    "        cmap=plt.cm.Paired,\n",
    "        s=20,\n",
    "        edgecolor=\"k\",\n",
    "        label=\"Class %s\" % n,\n",
    "    )\n",
    "plt.xlim(x_min, x_max)\n",
    "plt.ylim(y_min, y_max)\n",
    "plt.legend(loc=\"upper right\")\n",
    "\n",
    "plt.title(\"Decision Boundary\")"
   ]
  },
  {
   "cell_type": "code",
   "execution_count": 10,
   "id": "200ec714",
   "metadata": {},
   "outputs": [
    {
     "data": {
      "image/png": "[encoded data removed]",
      "text/plain": [
       "<Figure size 640x480 with 1 Axes>"
      ]
     },
     "metadata": {},
     "output_type": "display_data"
    }
   ],
   "source": [
    "twoclass_output = bdt.decision_function(X)\n",
    "plot_range = (twoclass_output.min(), twoclass_output.max())\n",
    "plt.subplot(122)\n",
    "for i, n, c in zip(range(2), class_names, plot_colors):\n",
    "    plt.hist(\n",
    "        twoclass_output[y == i],\n",
    "        bins=10,\n",
    "        range=plot_range,\n",
    "        facecolor=c,\n",
    "        label=\"Class %s\" % n,\n",
    "        alpha=0.5,\n",
    "        edgecolor=\"k\",\n",
    "    )\n",
    "x1, x2, y1, y2 = plt.axis()\n",
    "plt.axis((x1, x2, y1, y2 * 1.2))\n",
    "plt.legend(loc=\"upper right\")\n",
    "plt.ylabel(\"Samples\")\n",
    "plt.xlabel(\"Score\")\n",
    "plt.title(\"Decision Scores\")\n",
    "\n",
    "plt.tight_layout()\n",
    "plt.subplots_adjust(wspace=0.35)\n",
    "plt.show()"
   ]
  }
 ],
 "metadata": {
  "kernelspec": {
   "display_name": "Python 3",
   "language": "python",
   "name": "python3"
  },
  "language_info": {
   "codemirror_mode": {
    "name": "ipython",
    "version": 3
   },
   "file_extension": ".py",
   "mimetype": "text/x-python",
   "name": "python",
   "nbconvert_exporter": "python",
   "pygments_lexer": "ipython3",
   "version": "3.8.5"
  }
 },
 "nbformat": 4,
 "nbformat_minor": 5
}
