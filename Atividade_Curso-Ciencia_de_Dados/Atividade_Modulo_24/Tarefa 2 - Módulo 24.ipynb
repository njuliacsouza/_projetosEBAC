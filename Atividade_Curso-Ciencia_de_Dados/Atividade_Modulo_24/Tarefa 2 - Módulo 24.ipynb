{
 "cells": [
  {
   "cell_type": "markdown",
   "id": "62de76e7",
   "metadata": {},
   "source": [
    "# Módulo 24 - GBM (Boosting)\n",
    "## Tarefa 2"
   ]
  },
  {
   "cell_type": "code",
   "execution_count": 1,
   "id": "544075d5",
   "metadata": {},
   "outputs": [],
   "source": [
    "from sklearn.datasets import make_hastie_10_2\n",
    "from sklearn.ensemble import GradientBoostingClassifier"
   ]
  },
  {
   "cell_type": "code",
   "execution_count": 2,
   "id": "2da5bd8c",
   "metadata": {},
   "outputs": [
    {
     "name": "stdout",
     "output_type": "stream",
     "text": [
      "Treino: X->(2000, 10), y->(2000,)\n",
      "Teste: X->(10000, 10), y->(10000,)\n"
     ]
    }
   ],
   "source": [
    "X, y = make_hastie_10_2(random_state=0)\n",
    "X_train, X_test = X[:2000], X[2000:]\n",
    "y_train, y_test = y[:2000], y[2000:]\n",
    "\n",
    "print(f'Treino: X->{X_train.shape}, y->{y_train.shape}')\n",
    "print(f'Teste: X->{X_test.shape}, y->{y_test.shape}')"
   ]
  },
  {
   "cell_type": "code",
   "execution_count": 3,
   "id": "09bd2ec6",
   "metadata": {},
   "outputs": [
    {
     "data": {
      "text/plain": [
       "0.913"
      ]
     },
     "execution_count": 3,
     "metadata": {},
     "output_type": "execute_result"
    }
   ],
   "source": [
    "clf = GradientBoostingClassifier(\n",
    "    n_estimators=100, \n",
    "    learning_rate=1.0,\n",
    "    max_depth=1, \n",
    "    random_state=0).fit(X_train, y_train)\n",
    "\n",
    "clf.score(X_test, y_test)"
   ]
  }
 ],
 "metadata": {
  "kernelspec": {
   "display_name": "Python 3",
   "language": "python",
   "name": "python3"
  },
  "language_info": {
   "codemirror_mode": {
    "name": "ipython",
    "version": 3
   },
   "file_extension": ".py",
   "mimetype": "text/x-python",
   "name": "python",
   "nbconvert_exporter": "python",
   "pygments_lexer": "ipython3",
   "version": "3.8.5"
  }
 },
 "nbformat": 4,
 "nbformat_minor": 5
}
