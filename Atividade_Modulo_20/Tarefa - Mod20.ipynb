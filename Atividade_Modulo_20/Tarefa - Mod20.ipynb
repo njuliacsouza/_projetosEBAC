{
 "cells": [
  {
   "cell_type": "markdown",
   "id": "4ff51254",
   "metadata": {},
   "source": [
    "<h1 align='center'> Tarefa - Módulo 20: Terminal/Markdown/LaTex </h1>\n",
    "\n",
    "<h3> Julho de 2022 </h3>"
   ]
  },
  {
   "cell_type": "markdown",
   "id": "918998ad",
   "metadata": {},
   "source": [
    "**Objetivo**\n",
    "\n",
    "Para esta tarefa deve-se transformar o texto presente na seguinte imagem em Markdown utlizando LaTex para a formatação das fórmulas matemáticas."
   ]
  },
  {
   "cell_type": "markdown",
   "id": "840c707b",
   "metadata": {},
   "source": [
    "![Imagem para tarefa](tarefa.png)"
   ]
  },
  {
   "cell_type": "markdown",
   "id": "8145b5e5",
   "metadata": {},
   "source": [
    "## Resolução:"
   ]
  },
  {
   "cell_type": "markdown",
   "id": "2cf15b3a",
   "metadata": {},
   "source": [
    "## Fórmula de Bhaskara\n",
    "\n",
    "A solução para uma função de segundo grau depende das suas raízes (valroes de x). Como já vimos, os coeficientes precisam ser números reais e o angular diferente de zero. Sendo assim, temos a seguinte fórmula de Bhaskara: \n",
    "\n",
    "<h1>\n",
    "$$\n",
    "    x = \\frac{-b \\pm \\sqrt{b^2-4.a.c}}{2.a}\n",
    "$$\n",
    "</h1>\n",
    "\n",
    "Para melhor compreensão o seu cálculo é dividido em duas partes: discriminantes da equação e operações para determinar as raízes.\n",
    "\n",
    "**Discriminantes**\n",
    "\n",
    "A figura dentro da raiz na fórmula de Bhaskara é nomeada de discriminante. Seu símbolo é a letra grega delta e apresenta a determinada fórmula:\n",
    "\n",
    "<h1>\n",
    "$$\n",
    "\\Delta = b^2 - 4.a.c\n",
    "$$\n",
    "</h1>\n",
    "\n",
    "$$\\text{Fórmula da discriminante}$$\n",
    "\n",
    "- Se o delta for maior que zero, a equação terá dois valores reais e distintos\n",
    "- Se o delto for igual a zero, a equação terá somento um valor real ou dois resultados iguais\n",
    "- Se o delta for menor que zero, a equação não possuirá valores reais"
   ]
  }
 ],
 "metadata": {
  "kernelspec": {
   "display_name": "Python 3",
   "language": "python",
   "name": "python3"
  },
  "language_info": {
   "codemirror_mode": {
    "name": "ipython",
    "version": 3
   },
   "file_extension": ".py",
   "mimetype": "text/x-python",
   "name": "python",
   "nbconvert_exporter": "python",
   "pygments_lexer": "ipython3",
   "version": "3.8.5"
  }
 },
 "nbformat": 4,
 "nbformat_minor": 5
}
