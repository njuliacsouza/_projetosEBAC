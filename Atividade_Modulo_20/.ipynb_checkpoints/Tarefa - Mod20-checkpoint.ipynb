{
 "cells": [
  {
   "cell_type": "markdown",
   "id": "f2315dd2",
   "metadata": {},
   "source": [
    "<h1 align='center'> Tarefa - Módulo 20: Terminal/Markdown/LaTex </h1>\n",
    "\n",
    "<h3> Julho de 2022 </h3>"
   ]
  },
  {
   "cell_type": "markdown",
   "id": "ff622641",
   "metadata": {},
   "source": [
    "**Objetivo**\n",
    "\n",
    "Para esta tarefa deve-se transformar o texto presente na seguinte imagem em Markdown utlizando LaTex para a formatação das fórmulas matemáticas."
   ]
  },
  {
   "cell_type": "markdown",
   "id": "25313804",
   "metadata": {},
   "source": [
    "![Imagem para tarefa](tarefa.png)"
   ]
  },
  {
   "cell_type": "markdown",
   "id": "87bc8720",
   "metadata": {},
   "source": [
    "## Resolução:"
   ]
  },
  {
   "cell_type": "markdown",
   "id": "1dce9c4d",
   "metadata": {},
   "source": [
    "## Fórmula de Bhaskara\n",
    "\n",
    "A solução para uma função de segundo grau depende das suas raízes (valroes de x). Como já vimos, os coeficientes precisam ser números reais e o angular diferente de zero. Sendo assim, temos a seguinte fórmula de Bhaskara: \n",
    "\n",
    "$$\n",
    "    x = \\frac{-b \\pm \\sqrt{b^2-4.a.c}}{2.a}\n",
    "$$\n",
    "\n",
    "Para melhor compreensão o seu cálculo é dividido em duas partes: discriminantes da equação e operações para determinar as raízes.\n",
    "\n",
    "**Discriminantes**\n",
    "\n",
    "A figura dentro da raiz na fórmula de Bhaskara é nomeada de discriminante. Seu símbolo é a letra grega delta e apresenta a determinada fórmula:\n",
    "\n",
    "$$\n",
    "\\Delta = b^2 - 4.a.c\n",
    "$$\n",
    "<p align='center'>Fórmula da discriminante </p>\n"
   ]
  }
 ],
 "metadata": {
  "kernelspec": {
   "display_name": "Python 3",
   "language": "python",
   "name": "python3"
  },
  "language_info": {
   "codemirror_mode": {
    "name": "ipython",
    "version": 3
   },
   "file_extension": ".py",
   "mimetype": "text/x-python",
   "name": "python",
   "nbconvert_exporter": "python",
   "pygments_lexer": "ipython3",
   "version": "3.8.5"
  }
 },
 "nbformat": 4,
 "nbformat_minor": 5
}
